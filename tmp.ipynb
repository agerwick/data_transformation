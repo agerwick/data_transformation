{
 "cells": [
  {
   "cell_type": "code",
   "execution_count": 9,
   "id": "5208f587",
   "metadata": {},
   "outputs": [
    {
     "name": "stdout",
     "output_type": "stream",
     "text": [
      "      Name  Age        Job  Department  StartYear\n",
      "0    Alice   25   Engineer         Lab       2023\n",
      "1      Bob   30    Manager         Lab       2023\n",
      "2  Charlie   35  Developer  Management       2023\n",
      "      Name  Age        Job  Department  StartYear\n",
      "0    Alice   25   Engineer         Lab       2023\n",
      "1      Bob   30    Manager         Lab       2023\n",
      "2  Charlie   35  Developer  Management       2023\n"
     ]
    }
   ],
   "source": [
    "from IPython.core.interactiveshell import InteractiveShell\n",
    "InteractiveShell.ast_node_interactivity = \"all\"\n",
    "import pandas as pd\n",
    "df = pd.DataFrame({'Name': ['Alice', 'Bob', 'Charlie'],\n",
    "                   'Age': [25, 30, 35]})\n",
    "new_column = ['Engineer', 'Manager', 'Developer']\n",
    "df['Job'] = new_column\n",
    "updated_column = ['Sales', 'Marketing', 'Operations']\n",
    "df['Department'] = updated_column\n",
    "updated_column = ['Lab', 'Lab', 'Management']\n",
    "df['Department'] = updated_column\n",
    "df['StartYear'] = 2023\n",
    "print(df)\n",
    "selection = df[df['Department'].isin([\"Lab\", \"Management\"])]\n",
    "print(selection)\n"
   ]
  }
 ],
 "metadata": {
  "kernelspec": {
   "display_name": "Python 3 (ipykernel)",
   "language": "python",
   "name": "python3"
  },
  "language_info": {
   "codemirror_mode": {
    "name": "ipython",
    "version": 3
   },
   "file_extension": ".py",
   "mimetype": "text/x-python",
   "name": "python",
   "nbconvert_exporter": "python",
   "pygments_lexer": "ipython3",
   "version": "3.6.9"
  }
 },
 "nbformat": 4,
 "nbformat_minor": 5
}
